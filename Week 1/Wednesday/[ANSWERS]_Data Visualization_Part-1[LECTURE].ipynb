{
 "cells": [
  {
   "cell_type": "markdown",
   "id": "94e17d4d",
   "metadata": {},
   "source": [
    "# Data Visualization - Part 1\n",
    "\n",
    "Visualization is an important aspect of communicating stories and insights around data. In this lecture we will be using functions from two important visualization libraries: `matplotlib` and `seaborn`. Within the `matplotlib` library, most of our functions will be coming from `pyplot`, which we abbreviate as `plt`.\n",
    "\n",
    "Depending on the goals of your visualization, you may chose to use `matplotlib` (`plt`) or `seaborn`. Both libraries can create many of the same type of visualizations. However, both libraries may not have the same options and flexibility to customize visualizations as you want. Thus, it's important to become familiar with the documentation to understand how to create graphs from both libraries."
   ]
  },
  {
   "cell_type": "markdown",
   "id": "104c7fbe",
   "metadata": {},
   "source": [
    "Before we get started, let's remember what types of data are best for which visualizations.\n",
    "\n",
    "### <code style=\"background:#83ebd5;color:black\">Exercise: Data Visualization Recap</span>\n",
    "\n",
    "**Fill in the blanks below:**\n",
    "\n",
    "- Numerical data consists of (***Blank_1***) and (***Blank_2***) values. (***Blank_1***) values are finite integers, while (***Blank_2***) values can take on any real number in an interval."
   ]
  },
  {
   "cell_type": "markdown",
   "id": "1ca25aa6",
   "metadata": {},
   "source": [
    "Blank_1:\n",
    "Blank_2: "
   ]
  },
  {
   "cell_type": "markdown",
   "id": "f49df74b",
   "metadata": {},
   "source": [
    "- Scatter plots, histograms, and line plots are best for visualizing (***Blank_3***) data. Pie charts and bar graphs are best for visualizing (***Blank_4***) data."
   ]
  },
  {
   "cell_type": "markdown",
   "id": "65dabd02",
   "metadata": {},
   "source": [
    "Blank_3:\n",
    "Blank_4:"
   ]
  },
  {
   "cell_type": "markdown",
   "id": "329b9944",
   "metadata": {},
   "source": [
    "---\n",
    "\n",
    "For this lecture, we will be using data pertaining to the number of births per state through the years 2016 - 2021, recorded by the CDC. We will import the necessary libraries and load the data as a dataframe called `babies`."
   ]
  },
  {
   "cell_type": "code",
   "execution_count": null,
   "id": "4bad8e74",
   "metadata": {},
   "outputs": [],
   "source": [
    "import numpy as np\n",
    "import pandas as pd\n",
    "import matplotlib\n",
    "from matplotlib import pyplot as plt\n",
    "import seaborn as sns\n",
    "plt.style.use('fivethirtyeight')     # specifies the matplotlib style for graphs, see references for more info"
   ]
  },
  {
   "cell_type": "code",
   "execution_count": null,
   "id": "ec40780a",
   "metadata": {},
   "outputs": [],
   "source": [
    "babies = pd.read_csv('../datasets/us_births.csv')\n",
    "babies"
   ]
  },
  {
   "cell_type": "markdown",
   "id": "3c31bf6f",
   "metadata": {},
   "source": [
    "We can begin to explore and understand this dataset by using visualization techniques. How we chose to visualize the data will depend on the type of data (numerical versus categorical). We will learn visualizations previously discussed as well as a few new ones."
   ]
  },
  {
   "cell_type": "markdown",
   "id": "2e85220a",
   "metadata": {},
   "source": [
    "## Scatter plots\n",
    "\n",
    "Scatter plots are most commonly used to visualize two continous numerical variables against each other or when data takes on a large number of different discrete integers. \n",
    "\n",
    "We will use a scatter plot to visualize the average age of mothers versus the average birth weight.\n",
    "\n",
    "Because this dataset is so large, let's first subset it so that we only visualize data from the states of our home institutions. First we need to check what the unique values are in the `State` column."
   ]
  },
  {
   "cell_type": "code",
   "execution_count": null,
   "id": "edd755ec",
   "metadata": {},
   "outputs": [],
   "source": [
    "babies['State'].unique()"
   ]
  },
  {
   "cell_type": "markdown",
   "id": "55b5df6a",
   "metadata": {},
   "source": [
    "### <code style=\"background:#83ebd5;color:black\">Exercise: Data processing for visualization</span>\n",
    "\n",
    "Subset `babies` to only include data from states of the home institutions of the CAN network. Assign this subset of data to the variable `states` below:"
   ]
  },
  {
   "cell_type": "code",
   "execution_count": null,
   "id": "91f45a3b",
   "metadata": {},
   "outputs": [],
   "source": [
    "## ANSWER\n",
    "babies['State'].unique()\n",
    "states = babies.loc[(babies['State'] == 'District of Columbia') | (babies['State'] == 'California') | \n",
    "                    (babies['State'] == 'Illinois') | (babies['State'] == 'North Carolina') |\n",
    "                    (babies['State'] == 'Texas') | (babies['State'] == 'Georgia')]\n",
    "states.head()"
   ]
  },
  {
   "cell_type": "markdown",
   "id": "a9dfc809",
   "metadata": {},
   "source": [
    "<u>Useful parameters for `plt.scatter()`</u>\n",
    "- `x`: an array of values to be plotted on the x-axis\n",
    "- `y`: an array of values to be plotted on the y-axis\n",
    "- `c`: an array of values corresponding to colors or values that can be mapped to colors in the `cmap` parameter\n",
    "- `cmap`: specifies the colormap used to color the variables (referenced below)\n",
    "- `s`: dictates the size of the data points"
   ]
  },
  {
   "cell_type": "code",
   "execution_count": null,
   "id": "043b24e7",
   "metadata": {},
   "outputs": [],
   "source": [
    "plt.figure(figsize=(15,6)) \n",
    "\n",
    "plt.scatter(x= states['Average Age of Mother (years)'], y= states['Average Birth Weight (g)'])\n",
    "plt.show()"
   ]
  },
  {
   "cell_type": "markdown",
   "id": "f3e8f407",
   "metadata": {},
   "source": [
    "We can also change some aesthetics about our plot by using the `c`, `cmap`, and `s` parameters. \n",
    "\n",
    "To color data points based on a particular column, we can use the `pd.Categorical()` function to convert the values of a column to a `categorical` data type, which is innate to the `pandas` library.\n",
    "\n",
    "Calling the `.codes` attribute will then convert this categorical to an array of values, which can be used in the `c` parameter of `plt.scatter()`:"
   ]
  },
  {
   "cell_type": "code",
   "execution_count": null,
   "id": "d82eaff0",
   "metadata": {},
   "outputs": [],
   "source": [
    "plt.figure(figsize=(15,6)) \n",
    "\n",
    "labelz = pd.Categorical(states['State']).codes\n",
    "\n",
    "plt.scatter(x=states['Average Age of Mother (years)'], y=states['Average Birth Weight (g)'], \n",
    "           c = labelz, cmap='tab20', s=75)\n",
    "\n",
    "plt.show()"
   ]
  },
  {
   "cell_type": "markdown",
   "id": "dad28fd9",
   "metadata": {},
   "source": [
    "\n",
    "\n",
    "---\n",
    "\n",
    "<u>Additional functions for plotting:</u>\n",
    "\n",
    "`plt.legend()` - places a legend within the plot\n",
    "- `handles`: displays a color, shape, icon, etc., representing each category in the plot\n",
    "- `labels`: text labels of the categories\n",
    "- `ncol`: sets the number of columns the legend has\n",
    "- `labelcolor`: sets the color of the text in the legend\n",
    "- `bbox_to_anchor`: positions the legend within the plotting area\n",
    "\n",
    "`plt.title()` - makes a title for the plot"
   ]
  },
  {
   "cell_type": "code",
   "execution_count": null,
   "id": "306a918d",
   "metadata": {},
   "outputs": [],
   "source": [
    "plt.figure(figsize=(15,6)) \n",
    "\n",
    "labelz = pd.Categorical(states['State']).codes\n",
    "\n",
    "scatter = plt.scatter(x=states['Average Age of Mother (years)'], y=states['Average Birth Weight (g)'], \n",
    "           c = labelz, cmap='tab20', s=75)\n",
    "\n",
    "\n",
    "plt.legend(handles=scatter.legend_elements()[0], labels = pd.Categorical(states['State']).unique(), \n",
    "           bbox_to_anchor=(1, 1.01))                                  # Legend added\n",
    "\n",
    "plt.title('Average Mother Age vs Average Birth Weight')               # title added\n",
    "\n",
    "plt.show()"
   ]
  },
  {
   "cell_type": "markdown",
   "id": "f8b3ed6c",
   "metadata": {},
   "source": [
    "For a more straightforward way of coloring data points based on a category in a variable, try `sns.scatterplot()`.\n",
    "\n",
    "Refer to the <a href=\"https://matplotlib.org/stable/api/_as_gen/matplotlib.pyplot.scatter.html\">matplotlib</a> or <a href=\"https://seaborn.pydata.org/generated/seaborn.scatterplot.html\">seaborn</a> documentation to learn more about how to create scatter plots in these libraries."
   ]
  },
  {
   "cell_type": "markdown",
   "id": "31d1e170",
   "metadata": {},
   "source": [
    "## Histograms\n",
    "\n",
    "Histograms are used to visualize distributions by quantifying the number of items that fall within a particular *bin*. Bins are basically subdivisions or partitioned \"buckets\" of a numeric variable.\n",
    "\n",
    "We can use a histogram to visualize the distribution of ages of mothers in our dataset. First, we need to see what the range of ages are. We can do this by determining the minimum and maximum range in our dataset:"
   ]
  },
  {
   "cell_type": "code",
   "execution_count": null,
   "id": "5d00a052",
   "metadata": {},
   "outputs": [],
   "source": [
    "print(babies[\"Average Age of Mother (years)\"].min())\n",
    "print(babies[\"Average Age of Mother (years)\"].max())"
   ]
  },
  {
   "cell_type": "markdown",
   "id": "6790bc0c",
   "metadata": {},
   "source": [
    "### Making a histogram\n",
    "\n",
    "We need to know the minimum and maximum values of ages so that we can determine the range of our bins when making our histogram. \n",
    "\n",
    "For our plot, lets create a variable called `binz` which will be an array from 23 and ending at 36 (inclusive).\n",
    "\n",
    "To construct the histogram, we use the `plt.hist()` function:"
   ]
  },
  {
   "cell_type": "code",
   "execution_count": null,
   "id": "7953cd48",
   "metadata": {},
   "outputs": [],
   "source": [
    "plt.figure(figsize=(7,5)) \n",
    "\n",
    "binz = np.arange(23, 37)                      # creates an array of numbers that determine the ranges of the bins\n",
    "plt.hist(x=babies[\"Average Age of Mother (years)\"], bins = binz)\n",
    "plt.show()"
   ]
  },
  {
   "cell_type": "markdown",
   "id": "6b9971fc",
   "metadata": {},
   "source": [
    "Alternatively, we could decrease the number of bins by including 2 years per bin by making an array starting at 23 and ending at 36 (inclusive) in increments of 2. This will change the look of our histogram:"
   ]
  },
  {
   "cell_type": "code",
   "execution_count": null,
   "id": "e1380c26",
   "metadata": {},
   "outputs": [],
   "source": [
    "plt.figure(figsize=(7,5)) \n",
    "\n",
    "binz = np.arange(23, 37, 2)                            # binz set to increments of 2\n",
    "plt.hist(x=babies[\"Average Age of Mother (years)\"], bins = binz)\n",
    "plt.show()"
   ]
  },
  {
   "cell_type": "markdown",
   "id": "194e7bb5",
   "metadata": {},
   "source": [
    "---\n",
    "<u>Additional features for plots:</u>\n",
    "\n",
    "`plt.xlabel` - labels the x-axis\n",
    "\n",
    "`plt.ylabel` - labels the x-axis"
   ]
  },
  {
   "cell_type": "code",
   "execution_count": null,
   "id": "a548fcc7",
   "metadata": {},
   "outputs": [],
   "source": [
    "plt.figure(figsize=(7,5)) \n",
    "\n",
    "binz = np.arange(23, 37, 2)\n",
    "plt.hist(x=babies[\"Average Age of Mother (years)\"], bins = binz)\n",
    "plt.xlabel('Age (years)')                                   # x-label added\n",
    "plt.ylabel('Count')                                         # y-label added\n",
    "plt.title('Age Distribution of Mothers')                    # title added\n",
    "plt.show()"
   ]
  },
  {
   "cell_type": "markdown",
   "id": "5be1a004",
   "metadata": {},
   "source": [
    "<u>Useful parameters for `plt.hist()`</u>\n",
    "- `x`: an array of values to be binned and plotted\n",
    "- `bins`: an array of values that set the ranges of each bin **or** a single number that determines the number of bins\n",
    "- `rwidth`: dictates the width of each bar relative to the width of its bin\n",
    "- `orientation`: toggles between a vertical and horizontal plot\n",
    "- `color`: dictates the color of the bar; any of the accepted `matplotlib` colors or hexadecimal code can be passed as an argument (see references)."
   ]
  },
  {
   "cell_type": "code",
   "execution_count": null,
   "id": "3066be0c",
   "metadata": {},
   "outputs": [],
   "source": [
    "plt.figure(figsize=(7,5)) \n",
    "\n",
    "binz = np.arange(23, 37, 2)\n",
    "plt.hist(x=babies[\"Average Age of Mother (years)\"], bins = binz, \n",
    "         orientation = 'horizontal', rwidth = 0.75, color = 'limegreen') # orientation, bar width, and color changed\n",
    "plt.xlabel('Count')                                                      # x and y labeling are switched\n",
    "                                                                         # due to orientation\n",
    "plt.ylabel('Age (years)')\n",
    "plt.title('Age Distribution of Mothers')                                 # title added\n",
    "plt.show()"
   ]
  },
  {
   "cell_type": "markdown",
   "id": "307d82af",
   "metadata": {},
   "source": [
    "For more information on how to create custom histograms, refer to the <a href=\"https://matplotlib.org/stable/api/_as_gen/matplotlib.pyplot.hist.html\">matplotlib histogram</a> documentation or the <a href=\"https://seaborn.pydata.org/generated/seaborn.histplot.html\">seaborn</a> equivalent."
   ]
  },
  {
   "cell_type": "markdown",
   "id": "28f41847",
   "metadata": {},
   "source": [
    "### Line Graphs\n",
    "\n",
    "Line graphs are commonly used to display sequential data to easily see trends over time. \n",
    "\n",
    "We will use `plt.plot()` to make a line graph showing the number of total births per year. First, we need to organize the data so that it is grouped by year and then find the total number of births for each group. \n",
    "\n",
    "\n",
    "Type the code that would accomplish this below. Assign it to the variable `years`."
   ]
  },
  {
   "cell_type": "code",
   "execution_count": null,
   "id": "83b77605",
   "metadata": {},
   "outputs": [],
   "source": [
    "## ANSWER\n",
    "\n",
    "years = babies.groupby('Year').sum()[['Number of Births']]\n",
    "years"
   ]
  },
  {
   "cell_type": "markdown",
   "id": "ec573b81",
   "metadata": {},
   "source": [
    "Now that we have our data organized in this way, we can easily plot it by using `years` as an argument for `plt.plot()`:"
   ]
  },
  {
   "cell_type": "code",
   "execution_count": null,
   "id": "8073ed10",
   "metadata": {
    "scrolled": true
   },
   "outputs": [],
   "source": [
    "plt.figure(figsize=(7,5)) \n",
    "\n",
    "plt.plot(years)\n",
    "plt.show()"
   ]
  },
  {
   "cell_type": "markdown",
   "id": "883fab37",
   "metadata": {},
   "source": [
    "<u>Useful parameters for `plt.plot()`</u>\n",
    "- `color`: dictates the color of the line\n",
    "- `linewidth`: sets the weight of the line\n",
    "- `linestyle`: sets the style of the line; accepted arguments include '-', '--', '-.', and ':'\n",
    "\n",
    "---\n",
    "\n",
    "<u>Additional features for plots:</u>\n",
    "\n",
    "`plt.xticks`: - sets tick locations and labels on the x-axis\n"
   ]
  },
  {
   "cell_type": "code",
   "execution_count": null,
   "id": "e31a6155",
   "metadata": {
    "scrolled": true
   },
   "outputs": [],
   "source": [
    "plt.figure(figsize=(7,5)) \n",
    "\n",
    "plt.plot(years, color = '#3a45c5', linewidth = 3, linestyle= '--') # color changed with a hexademical code,\n",
    "                                                                   # line width and line style altered\n",
    "plt.xlabel('Year')                                                 # x-label added\n",
    "plt.ylabel('Number of Births (in millions)')                       # y-label added\n",
    "plt.title('Births from 2016-2021')                                 # title added\n",
    "plt.xticks(np.arange(2016, 2022, 2))                               # increments of x-axis changed\n",
    "plt.show()"
   ]
  },
  {
   "cell_type": "markdown",
   "id": "fe202d23",
   "metadata": {},
   "source": [
    "There are a ton of ways to customize a line graph. See the <a href=\"https://matplotlib.org/stable/api/_as_gen/matplotlib.pyplot.plot.html\">matplotlib</a> or <a href=\"https://seaborn.pydata.org/generated/seaborn.lineplot.html\">seaborn</a> line graph documentation for more information."
   ]
  },
  {
   "cell_type": "markdown",
   "id": "7a771414",
   "metadata": {},
   "source": [
    "### <code style=\"background:#83ebd5;color:black\">Exercise: Creating a visualization</span>\n",
    "\n",
    "Using `matplotlib`, create a histogram of the average birth weight using the `babies` dataset. Make the bars of the histogram take up 75% (0.75) of the width of the bins. Color the bars a purplish color."
   ]
  },
  {
   "cell_type": "code",
   "execution_count": null,
   "id": "8aa4fd50",
   "metadata": {},
   "outputs": [],
   "source": [
    "# ANSWER\n",
    "\n",
    "plt.figure(figsize=(7,5)) \n",
    "\n",
    "binz = np.arange(2400, 3700, step = 100)\n",
    "plt.hist(x=babies[\"Average Birth Weight (g)\"], bins = binz, color = 'mediumorchid', rwidth = 0.75)\n",
    "plt.xlabel('Average Birth Weight (g)')\n",
    "plt.ylabel('Count')\n",
    "plt.title('Count of Average Birth Weight')\n",
    "plt.show()"
   ]
  },
  {
   "cell_type": "markdown",
   "id": "6c346dbf",
   "metadata": {},
   "source": [
    "## Bar Graphs\n",
    "\n",
    "Bar graphs are best to use when you have a limited number of categories to visualize. \n",
    "\n",
    "We will be using a bar graph to visualize the number of babies born to mothers of different educational levels. First we will need to determine the total number of babies born to each educational group. \n",
    "\n",
    "### <code style=\"background:#83ebd5;color:black\">Exercise: Data processing for visualization</span>\n",
    "\n",
    "Write code below that makes a dataframe that gives the total number of births for each educational level. Assign this dataframe to the variable `ed`."
   ]
  },
  {
   "cell_type": "code",
   "execution_count": null,
   "id": "d46e1636",
   "metadata": {},
   "outputs": [],
   "source": [
    "## ANSWER\n",
    "\n",
    "ed = babies.groupby('Education Level of Mother').sum()[['Number of Births']]\n",
    "ed.reset_index(inplace=True)\n",
    "ed"
   ]
  },
  {
   "cell_type": "markdown",
   "id": "da910142",
   "metadata": {},
   "source": [
    "Now that we have our data grouped by education level, we can use `plt.bar()` to create a bar graph, using the education level as the `x` parameter and the number of births as the `height` parameter (i.e., the y-variable):"
   ]
  },
  {
   "cell_type": "code",
   "execution_count": null,
   "id": "8754f575",
   "metadata": {},
   "outputs": [],
   "source": [
    "plt.figure(figsize=(7,5)) \n",
    "plt.bar(x = ed['Education Level of Mother'], height= ed['Number of Births'])\n",
    "plt.show()"
   ]
  },
  {
   "cell_type": "markdown",
   "id": "825a3dad",
   "metadata": {},
   "source": [
    "As you can see, the text of our x-labels are all jumbled together because some of the education levels have extensive descriptions. We can fix this by rotating the labels using `plt.xticks()` and using 270 as an argument for the `rotation` parameter. \n",
    "\n",
    "As before, we will add other labeling and a title to our graph:"
   ]
  },
  {
   "cell_type": "code",
   "execution_count": null,
   "id": "b214fdbc",
   "metadata": {},
   "outputs": [],
   "source": [
    "plt.figure(figsize=(7,5)) \n",
    "plt.bar(x = ed['Education Level of Mother'], height= ed['Number of Births'])\n",
    "plt.xticks(rotation=270)                           # Rotate x-labels by 270 degrees\n",
    "plt.xlabel('Education Level')                      # x-label added\n",
    "plt.ylabel('Number of births (millions)')          # y-label added\n",
    "plt.title('Number of births per education level')  # title added\n",
    "plt.show()"
   ]
  },
  {
   "cell_type": "markdown",
   "id": "7bfaae33",
   "metadata": {},
   "source": [
    "This graph is better, but still not ideal. The x-labels elongate the graph in a visually displeasing way.\n",
    "\n",
    "We can use `plt.barh()` to change the orientation:"
   ]
  },
  {
   "cell_type": "code",
   "execution_count": null,
   "id": "18574567",
   "metadata": {},
   "outputs": [],
   "source": [
    "plt.figure(figsize=(7,5)) \n",
    "plt.barh(y = ed['Education Level of Mother'], width= ed['Number of Births'])\n",
    "plt.xlabel('Number of births (millions)')          # x-label added, switched due to orientation\n",
    "plt.ylabel('Education Level')                      # y-label added, switched due to orientation\n",
    "plt.title('Number of births per education level')  # title added\n",
    "plt.show()"
   ]
  },
  {
   "cell_type": "markdown",
   "id": "7a813365",
   "metadata": {},
   "source": [
    "<u>Useful parameters for `plt.bar()`</u>\n",
    "- `x`: values/categories of the x-axis\n",
    "- `height`: numerical value of each bar corresponding to the height\n",
    "\n",
    "<u>Useful parameters for `plt.barh()`</u>\n",
    "- `y`: values/categories of the y-axis\n",
    "- `width`: numerical value of each bar corresponding to the with of the bar\n",
    "---"
   ]
  },
  {
   "cell_type": "markdown",
   "id": "e911da91",
   "metadata": {},
   "source": [
    "Refer to the <a href=\"https://seaborn.pydata.org/generated/seaborn.barplot.html\">seaborn</a> or <a href=\"https://matplotlib.org/stable/api/_as_gen/matplotlib.pyplot.bar.html\">matplotlib</a> bar plot documentations for more information. Documentation for horizontal bar plots can be found <a href=\"https://matplotlib.org/stable/api/_as_gen/matplotlib.pyplot.barh.html#matplotlib.pyplot.barh\">here</a>."
   ]
  },
  {
   "cell_type": "markdown",
   "id": "00fbc57b",
   "metadata": {},
   "source": [
    "### Box and whisker plot\n",
    "\n",
    "Box and whisker plots are a useful visualization tool that provides several quantitative measures of a distribution across multiple categories. \n",
    "\n",
    "We will use box and whisker plots to visualize the average age of mothers from each state that gave birth to male and female babies. First we need to group the data based on the sex of the child and state the child was born. Then, we need to find the average age of the mothers in each group.\n",
    "\n",
    "### <code style=\"background:#83ebd5;color:black\">Exercise: Data processing for visualization</span>\n",
    "\n",
    "Write code that creates a dataframe that organizes births by gender and finds the average of mothers for each gender per state. Assign this dataframe to the variable `age`."
   ]
  },
  {
   "cell_type": "code",
   "execution_count": null,
   "id": "f9a7b6c5",
   "metadata": {
    "scrolled": true
   },
   "outputs": [],
   "source": [
    "# ANSWER\n",
    "\n",
    "age = babies.groupby(['Gender', 'State'])[['Average Age of Mother (years)']].mean()\n",
    "age.reset_index(inplace=True)\n",
    "age"
   ]
  },
  {
   "cell_type": "markdown",
   "id": "9d9b5477",
   "metadata": {},
   "source": [
    "Box and whisker plots can be easily made using `sns.boxplot()`. Simply specify the `data`, `x`, and `y` parameters like so:"
   ]
  },
  {
   "cell_type": "code",
   "execution_count": null,
   "id": "118d6a7b",
   "metadata": {
    "scrolled": true
   },
   "outputs": [],
   "source": [
    "plt.figure(figsize=(7,5)) \n",
    "\n",
    "sns.boxplot(data=age, x=\"Gender\", y=\"Average Age of Mother (years)\")\n",
    "\n",
    "plt.show()"
   ]
  },
  {
   "cell_type": "markdown",
   "id": "6facdaca",
   "metadata": {},
   "source": [
    "To see the distribution of data points, `sns.swarmplot()` can be used along with `sns.boxplot()`. The same `x` and `y` parameters can be specified, along with others, to situate the data points on top of the box plot:"
   ]
  },
  {
   "cell_type": "code",
   "execution_count": null,
   "id": "0748046e",
   "metadata": {},
   "outputs": [],
   "source": [
    "plt.figure(figsize=(7,5)) \n",
    "\n",
    "sns.boxplot(data=age, x=\"Gender\", y=\"Average Age of Mother (years)\", palette = 'husl', width= 0.5)\n",
    "sns.swarmplot(data=age, x=\"Gender\", y=\"Average Age of Mother (years)\", color='black', size=5)\n",
    "\n",
    "plt.show()"
   ]
  },
  {
   "cell_type": "markdown",
   "id": "d73a9a51",
   "metadata": {},
   "source": [
    "<u>Useful parameters for `sns.boxplot()`</u>\n",
    "- `data`: dataframe or array containing data to be plotted\n",
    "- `x`: variable of data to plot on the x-axis\n",
    "- `y`: variable of data to plot on the y-axis\n",
    "- `palette`: color palette to be used to color plotted variables\n",
    "- `width`: width of box and whiskers\n",
    "\n",
    "<u>Useful parameters for `sns.swarmplot()`</u>\n",
    "- `data`: dataframe or array containing data to be plotted\n",
    "- `x`: variable of data to plot on the x-axis\n",
    "- `y`: variable of data to plot on the y-axis\n",
    "- `color`: color of data points\n",
    "- `size`: size of data points\n",
    "\n",
    "Box and whisker plots can be made in both <a href=\"https://matplotlib.org/stable/api/_as_gen/matplotlib.pyplot.boxplot.html\">matplotlib</a> or <a href=\"https://seaborn.pydata.org/generated/seaborn.boxplot.html\">seaborn</a>. Refer to the documentation to learn how to use both."
   ]
  },
  {
   "cell_type": "markdown",
   "id": "367db92c",
   "metadata": {},
   "source": [
    "## Pie chart\n",
    "\n",
    "Pie charts are a very simple data visualization method used to display proportion data. They go over well with lay-person audiences. As previously discussed, while simple and effective, pie charts should be used with discretion.\n",
    "\n",
    "Here, we can create a pie chart to visualize the total number of males and females born between 2016 and 2021. First, let's group our data accordingly:"
   ]
  },
  {
   "cell_type": "code",
   "execution_count": null,
   "id": "dc1b3347",
   "metadata": {},
   "outputs": [],
   "source": [
    "sex = babies.groupby('Gender').sum()[['Number of Births']]\n",
    "sex.reset_index(inplace=True)\n",
    "sex"
   ]
  },
  {
   "cell_type": "markdown",
   "id": "64271b34",
   "metadata": {},
   "source": [
    "We create a simple pie chart using `plt.pie()` and using the `Number of Births` column for our data. The `radius` specifies how big the pie chart will be. "
   ]
  },
  {
   "cell_type": "code",
   "execution_count": null,
   "id": "e248e261",
   "metadata": {},
   "outputs": [],
   "source": [
    "plt.figure(figsize=(5,5)) \n",
    "\n",
    "plt.pie(x = sex['Number of Births'])\n",
    "\n",
    "plt.show()"
   ]
  },
  {
   "cell_type": "markdown",
   "id": "46504aa7",
   "metadata": {},
   "source": [
    "This is obviously not an informative graph, but we can improve it by specifying additional parameters in `plt.pie()`:"
   ]
  },
  {
   "cell_type": "code",
   "execution_count": null,
   "id": "d65a1c7f",
   "metadata": {},
   "outputs": [],
   "source": [
    "plt.figure(figsize=(5,5)) \n",
    "\n",
    "plt.pie(x = sex['Number of Births'], radius=1.5, labels = sex['Gender'], normalize = True, \n",
    "        autopct=\"%.1f%%\", textprops={'fontsize': 15, 'weight':'bold'})\n",
    "\n",
    "plt.show()"
   ]
  },
  {
   "cell_type": "markdown",
   "id": "85f7cb61",
   "metadata": {},
   "source": [
    "<u>Useful parameters for `plt.pie()`</u>\n",
    "- `x`: sequence of numbers dictating the size of each wedge\n",
    "- `radius`: radius of the pie\n",
    "- `labels`: labels for each wedge\n",
    "- `normalize`: when set to `True`, `x` values will be normalized to a proportion of 1\n",
    "- `autopct`: dictates labeling of the wedges; follows formatting of string literals (referenced below)\n",
    "- `textprops`: controls text objects in the plot"
   ]
  },
  {
   "cell_type": "markdown",
   "id": "bee39d4f",
   "metadata": {},
   "source": [
    "Documentation on pie charts in matplotlib can be found <a href=\"https://matplotlib.org/stable/api/_as_gen/matplotlib.pyplot.pie.html\">here</a>."
   ]
  },
  {
   "cell_type": "markdown",
   "id": "bd938636",
   "metadata": {},
   "source": [
    "## Heatmap\n",
    "\n",
    "A heatmap is a matrix of data points depicted through a color gradient. Heatmaps are a great way to visualize data when you want to look at a multidimensional comparison of many categorial variables. \n",
    "\n",
    "\n",
    "<img src=\"https://seaborn.pydata.org/_images/spreadsheet_heatmap.png\" width=\"600\"/>\n",
    "\n",
    "<center> <i>An example of a heatmap depicting the number of each flights out of an airport each month over, several years. Heatmap was annotated with the numerical values corresponding to a color gradient</i></center>\n",
    "\n",
    "<br></br>\n",
    "We can use a heatmap to visualize variables that have a large number of values, such as the number of births from mothers of various educational levels in each of the states. To do this, we will first need to organize our data.\n",
    "\n",
    "\n",
    "### <code style=\"background:#83ebd5;color:black\">Exercise: Data processing for visualization</span>\n",
    "\n",
    "Write code below that constructs a dataframe displaying the total number of births from 2016 to 2021, per state. *Hint: Your dataframe should show the states as indexes and years as column titles.*"
   ]
  },
  {
   "cell_type": "code",
   "execution_count": null,
   "id": "c42315db",
   "metadata": {},
   "outputs": [],
   "source": [
    "## ANSWER\n",
    "\n",
    "babies.groupby('State')[['Number of Births']].sum().head()\n",
    "\n",
    "# or\n",
    "\n",
    "pivot = babies.pivot_table('Number of Births', index='State', aggfunc=np.sum)\n",
    "pivot.head()"
   ]
  },
  {
   "cell_type": "markdown",
   "id": "454dbd12",
   "metadata": {},
   "source": [
    "With this dataframe, we will generate our heatmap using `sns.heatmap()`:"
   ]
  },
  {
   "cell_type": "markdown",
   "id": "3cb2957d",
   "metadata": {},
   "source": [
    "<u>Useful parameters for `sns.heatmap()`</u>\n",
    "- `data`: a 2D dataset, such as an array with two variables or a 2D array\n",
    "- `cmap`: specifies the colormap used to color the intensity of values\n",
    "- `linewidth`: dictates width of borders\n",
    "- `linecolor`: dictates color of bordres\n",
    "- `cbar_kws`: provides options to modify the color bar\n",
    "- `vmin`: sets the minimum value for the color bar; by default, `sns.heatmap()` sets this based on the minimum of your data\n",
    "- `vmin`: sets the maximum value for the color bar; by default, `sns.heatmap()` sets this based on the maximum of your data"
   ]
  },
  {
   "cell_type": "code",
   "execution_count": null,
   "id": "199f3803",
   "metadata": {},
   "outputs": [],
   "source": [
    "plt.figure(figsize=(6,15)) \n",
    "\n",
    "sns.heatmap(data = pivot, cmap='BuGn', linewidth=.5, linecolor=\"black\", # colormap, line width, and color specified,\n",
    "           cbar_kws={'label': 'Births per year'}, vmin=0, vmax=700000)  # color bar labeled, min and max values set\n",
    "plt.title('Births per year in each state')                              # title added\n",
    "\n",
    "plt.show()"
   ]
  },
  {
   "cell_type": "markdown",
   "id": "8fefcd5a",
   "metadata": {},
   "source": [
    "<u>Additional features for plots:</u>\n",
    "\n",
    "`plt.savefig`: - saves the current plot as an image in the desired format\n",
    "- `fname`: sets the file name; accepted arguments are strings representing the relative filepath, including the file name and extension\n",
    "- `format`: sets the format of the image; accepted arguments include 'png', 'jpeg', 'pdf', 'eps', and 'svg'"
   ]
  },
  {
   "cell_type": "code",
   "execution_count": null,
   "id": "62f97e56",
   "metadata": {},
   "outputs": [],
   "source": [
    "plt.figure(figsize=(6,15)) \n",
    "\n",
    "sns.heatmap(data = pivot, cmap='BuGn', linewidth=.5, linecolor=\"black\", # colormap, line width, and color specified,\n",
    "           cbar_kws={'label': 'Births per year'}, vmin=0, vmax=700000)  # color bar labeled, min and max values set\n",
    "plt.title('Births per year in each state')                              # title added\n",
    "\n",
    "plt.savefig(fname = 'state_heatmap.png', format='png')                  # save as a PNG file"
   ]
  },
  {
   "cell_type": "markdown",
   "id": "94e280ba",
   "metadata": {},
   "source": [
    "More information on heatmaps can be found in the <a href=\"https://seaborn.pydata.org/generated/seaborn.heatmap.html\">seaborn</a> documentation page.\n",
    "\n",
    "***\n",
    "\n",
    "## The `.plot()` method\n",
    "\n",
    "Dataframes have an innate `.plot()` method that allows you to plot data directly. The `.plot()` method has an `x` and `y` parameter that can specify the x- and y-variables, respectively. It also has a `kind` parameter that allows you to pass a string of the kind of plot you want to create. \n",
    "\n",
    "\n",
    "If we wanted to remake the scatter plot above, we could call the `.plot()` method on the `states` dataframe that we used before:"
   ]
  },
  {
   "cell_type": "code",
   "execution_count": null,
   "id": "a5ba6dca",
   "metadata": {},
   "outputs": [],
   "source": [
    "states.plot(x= 'Average Age of Mother (years)', y= 'Average Birth Weight (g)', kind='scatter')\n",
    "plt.show()"
   ]
  },
  {
   "cell_type": "markdown",
   "id": "fb32d9ce",
   "metadata": {},
   "source": [
    "Or we could remake the horizontal bar graph from above:"
   ]
  },
  {
   "cell_type": "code",
   "execution_count": null,
   "id": "d26e54a2",
   "metadata": {},
   "outputs": [],
   "source": [
    "ed.plot(x = 'Education Level of Mother', y = 'Number of Births', kind = 'barh')\n",
    "plt.show()"
   ]
  },
  {
   "cell_type": "markdown",
   "id": "b7906f1b",
   "metadata": {},
   "source": [
    "As always, refer to the documentation for the `.plot()` method (referenced below) to understand what parameters it takes and acceptable arguments for these parameters."
   ]
  },
  {
   "cell_type": "markdown",
   "id": "aa7dc0f4",
   "metadata": {},
   "source": [
    "### <code style=\"background:#83ebd5;color:black\">Exercise: Data processing for visualization</span>\n",
    "\n",
    "Create a dataframe that shows the average birth weight for each of the Midatlantic states (NY, NJ, PA, DE, MD, District of Columbia). Assign this dataframe to `mid_states`."
   ]
  },
  {
   "cell_type": "code",
   "execution_count": null,
   "id": "ef40c0e5",
   "metadata": {},
   "outputs": [],
   "source": [
    "## ANSWER\n",
    "\n",
    "mid = babies.loc[(babies['State'] == 'District of Columbia') | (babies['State'] == 'New York') | \n",
    "                    (babies['State'] == 'New Jersey') | (babies['State'] == 'Delaware') |\n",
    "                    (babies['State'] == 'Maryland') | (babies['State'] == 'Pennsylvania')]\n",
    "mid.head()"
   ]
  },
  {
   "cell_type": "code",
   "execution_count": null,
   "id": "3becdcc4",
   "metadata": {},
   "outputs": [],
   "source": [
    "# Answer\n",
    "\n",
    "mid_weight = states.groupby('State')[['Average Birth Weight (g)']].mean()\n",
    "mid_weight"
   ]
  },
  {
   "cell_type": "markdown",
   "id": "0753ceb9",
   "metadata": {},
   "source": [
    "### <code style=\"background:#83ebd5;color:black\">Exercise: Creating visualization</span>\n",
    "\n",
    "Create a horizontal bar graph using `mid_states` data. Make the bars of the graph orange and the lines around the graph green. Make sure the linewidth is thick enough that it is easily visible."
   ]
  },
  {
   "cell_type": "code",
   "execution_count": null,
   "id": "92d993b3",
   "metadata": {},
   "outputs": [],
   "source": [
    "## ANSWER\n",
    "\n",
    "plt.barh(mid_weight.index, width = mid_weight['Average Birth Weight (g)'], color='#e96016', \n",
    "         edgecolor='#55bb44', linewidth=2)\n",
    "plt.show()"
   ]
  },
  {
   "cell_type": "markdown",
   "id": "40742c4c",
   "metadata": {},
   "source": [
    "## References\n",
    "\n",
    "- <a href=\"https://matplotlib.org/stable/gallery/style_sheets/style_sheets_reference.html\">matplotlib style sheets for graphs</a>\n",
    "- <a href=\"https://matplotlib.org/stable/tutorials/colors/colormaps.html\">matplotlib color maps</a>\n",
    "- <a href=\"https://matplotlib.org/stable/gallery/color/named_colors.html\">matplotlib colors</a>\n",
    "- <a href=\"https://www.canva.com/colors/color-wheel/\">hexadecimal color wheel picker</a>\n",
    "- <a href=\"https://docs.python.org/3/library/stdtypes.html#printf-style-string-formatting\">formatting string literals</a>\n",
    "- <a href=\"https://pandas.pydata.org/docs/reference/api/pandas.DataFrame.plot.html\">`.plot()` method</a>\n",
    "\n"
   ]
  },
  {
   "cell_type": "markdown",
   "id": "0c2d8752",
   "metadata": {},
   "source": [
    "## Activity:\n",
    "\n",
    "Form groups with members of your fellow CAN cohort. Using the data listed on your card (from the `datasets` directory), decide what visualization tool would be best to display the data. Then, make this visualizaton using the tools discussed during this lecture. Make sure your visuals are properly labeled and legible."
   ]
  }
 ],
 "metadata": {
  "kernelspec": {
   "display_name": "Python 3 (ipykernel)",
   "language": "python",
   "name": "python3"
  },
  "language_info": {
   "codemirror_mode": {
    "name": "ipython",
    "version": 3
   },
   "file_extension": ".py",
   "mimetype": "text/x-python",
   "name": "python",
   "nbconvert_exporter": "python",
   "pygments_lexer": "ipython3",
   "version": "3.9.12"
  }
 },
 "nbformat": 4,
 "nbformat_minor": 5
}
