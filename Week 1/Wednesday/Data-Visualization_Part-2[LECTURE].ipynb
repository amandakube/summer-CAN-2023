{
 "cells": [
  {
   "cell_type": "markdown",
   "id": "d9ed3d1c",
   "metadata": {},
   "source": [
    "# Data Visualization - Part 2\n",
    "\n",
    "So far, when making data visualizations, we have been using `matplotlib` or `seaborn` functions to make a single graph within a figure. \n",
    "\n",
    "In `matplotlib` a *figure* is an object that acts as a container for all plot elements. *Axes* are objects that act as the bounds of plot elements. When creating graphs using `matplotlib` or `seaborn`, a figure with 1x1 axes is automatically created. \n",
    "\n",
    "In this lecture, we will explore visualizing multiple datasets on more than one axes, as well as overlaying data on one plot.\n",
    "\n",
    "Per usual, import the necessary libraries:"
   ]
  },
  {
   "cell_type": "code",
   "execution_count": null,
   "id": "a3488978",
   "metadata": {},
   "outputs": [],
   "source": [
    "import numpy as np\n",
    "import pandas as pd\n",
    "import matplotlib\n",
    "from matplotlib import pyplot as plt\n",
    "import seaborn as sns\n",
    "plt.style.use('fivethirtyeight')"
   ]
  },
  {
   "cell_type": "markdown",
   "id": "41a4a6b2",
   "metadata": {},
   "source": [
    "## Line Graph: plotting multiple datasets\n",
    "\n",
    "Overlaying multiple line graphs is an easy way to view how trends in multiple datasets relate to one another. We will examine trends in minimum wages using data from the U.S. Department of Labor:"
   ]
  },
  {
   "cell_type": "code",
   "execution_count": null,
   "id": "8c6c4cc4",
   "metadata": {
    "scrolled": true
   },
   "outputs": [],
   "source": [
    "wages = pd.read_csv('../datasets/Minimum_Wage_Data.csv')\n",
    "wages.head()"
   ]
  },
  {
   "cell_type": "markdown",
   "id": "60871a9d",
   "metadata": {},
   "source": [
    "The `wages` dataset includes the minimum wage for each state from 1968 to 2020, as well as the federal minimum wage during this time period. \n",
    "\n",
    "Let's examine the growth patterns of the minimum wage rate for 3 states over this time period: Georgia, Connecticut, and Oregon. First, let's make separate dataframes for data pertaining to each state:"
   ]
  },
  {
   "cell_type": "code",
   "execution_count": null,
   "id": "adc7f351",
   "metadata": {},
   "outputs": [],
   "source": [
    "GA = wages.loc[(wages['State'] == 'Georgia')]\n",
    "CT = wages.loc[(wages['State'] == 'Connecticut')]\n",
    "OR = wages.loc[(wages['State'] == 'Oregon')]"
   ]
  },
  {
   "cell_type": "markdown",
   "id": "e66a2e8f",
   "metadata": {},
   "source": [
    "To readily plot this as a line graph, we can construct our dataframes such that the x-variable (i.e., the year) is set as the index and the y-variable (i.e. the state minimum wage) is the only column in the dataframe. In this way, the dataframe can be passed as is into `plt.plot()`"
   ]
  },
  {
   "cell_type": "code",
   "execution_count": null,
   "id": "e26da3d1",
   "metadata": {},
   "outputs": [],
   "source": [
    "GA.set_index('Year', inplace=True)\n",
    "GA_2020 = GA[['State.Minimum.Wage']]\n",
    "GA_2020.head()\n",
    "\n",
    "#CT.set_index('Year', inplace=True)\n",
    "#CT_2020 = CT[['State.Minimum.Wage']]\n",
    "\n",
    "#OR.set_index('Year', inplace=True)\n",
    "#OR_2020 = OR[['State.Minimum.Wage']]"
   ]
  },
  {
   "cell_type": "markdown",
   "id": "fbf87243",
   "metadata": {},
   "source": [
    "As always, we add the proper annotation to the graph:"
   ]
  },
  {
   "cell_type": "code",
   "execution_count": null,
   "id": "3975df8f",
   "metadata": {},
   "outputs": [],
   "source": [
    "plt.plot(GA_2020, color = 'firebrick') # Plots the Georgia data\n",
    "plt.plot(CT_2020, color = 'magenta')   # Plots the Connecticut data\n",
    "plt.plot(OR_2020, color = 'teal')      # Plots the Oregon data\n",
    "\n",
    "plt.legend(['Georgia', 'CT', 'OR'])                              # legend added\n",
    "plt.title('Minimum Wage in GA, CT, and OR (1968 - 2020)')        # title added\n",
    "plt.ylabel('USD (in 2020 dollars)')                              # y-labels added\n",
    "plt.xlabel('Year')                                               # x-labels added\n",
    "plt.show()"
   ]
  },
  {
   "cell_type": "markdown",
   "id": "0991e2f4",
   "metadata": {},
   "source": [
    "Here, we can see the trends of three different datasets all on one plot. With a bit of alteration, we can also plot these same three datasets as separate graphs. \n",
    "\n",
    "To do this, we first define our figure and our axes. We will define our figure as `fig` and define 3 axes (`ax1`, `ax2`, and `ax3`) in a tuple. These variables will be assigned to a figure object created by `plt.subplots()` that includes 1 row of 3 columns of axes.\n",
    "\n",
    "Then, on each axis, we can plot the data. Each axis can have it's own scale to fit the data:"
   ]
  },
  {
   "cell_type": "code",
   "execution_count": null,
   "id": "f10432a5",
   "metadata": {
    "scrolled": true
   },
   "outputs": [],
   "source": [
    "fig, (ax1, ax2, ax3) = plt.subplots(1, 3)\n",
    "\n",
    "ax1.plot(GA_2020, color = 'firebrick')\n",
    "\n",
    "ax2.plot(CT_2020, color = 'magenta')\n",
    "\n",
    "ax3.plot(OR_2020, color = 'teal')\n",
    "\n",
    "plt.show()"
   ]
  },
  {
   "cell_type": "markdown",
   "id": "ecbdacc6",
   "metadata": {},
   "source": [
    "These plots are alright, but we can improve it by increasing the width and allowing for more space to see the granularity of the x-axis by using the `figsize` and `sharey` parameters of `plt.subplots()`.\n",
    "\n",
    "We can also improve our plot by using the `fig.suptitle()`, `fig.supxlabel()`, and `fig.supylabel()` functions, as well as the `.set_title()`, `.set_ylabel()`, and `.set_ylim()` methods. These methods can be applied to individual axes to make each subplot."
   ]
  },
  {
   "cell_type": "markdown",
   "id": "2345aabf",
   "metadata": {},
   "source": [
    "\n",
    "<u>Useful parameters for `plt.subplots()`</u>\n",
    "- `figsize`: determines the width and length of the figure (in inches)\n",
    "- `sharey`: creates a common y-axis amongst all plots; an parallel to the `sharex` parameter\n",
    "\n",
    "\n",
    "---\n",
    "<u>Additional features for plots:</u>\n",
    "\n",
    "- `ax.set_title()`: sets the title for each subplot\n",
    "- `ax.set_ylim()`: sets the limits of the y-axis for each subplot\n",
    "- `fig.suptitle()`: sets the title for the entire figure\n",
    "- `fig.supxlabel()`: sets the x-axis label for the entire figure\n",
    "- `fig.supylabel()`: sets the y-axis label for the entire figure\n",
    "---"
   ]
  },
  {
   "cell_type": "code",
   "execution_count": null,
   "id": "69325b6f",
   "metadata": {},
   "outputs": [],
   "source": [
    "(fig, (ax1, ax2, ax3)) = plt.subplots(1, 3, figsize=(12, 3),  sharey= True)\n",
    "\n",
    "# plots on the first axis - ax1\n",
    "ax1.plot(GA_2020, color = 'firebrick') # plots data for GA\n",
    "ax1.set_title('Georgia')               # sets title for the subplot\n",
    "ax1.set_ylim([0, 12])                  # sets the limits of the y-axis for the subplot\n",
    "\n",
    "# plots on the second axis - ax2\n",
    "ax2.plot(CT_2020, color='magenta')     # plots data for CT\n",
    "ax2.set_title('Conneticut')            # sets title for the subplot\n",
    "ax2.set_ylim([0, 12])                  # sets the limits of the y-axis for the subplot\n",
    "\n",
    "#plots on the third axis - ax3\n",
    "ax3.plot(OR_2020, color='teal')        # plots data for OR\n",
    "ax3.set_title('Oregon')                # sets title for the subplot\n",
    "ax3.set_ylim([0, 12])                  # sets the limits of the y-axis for the subplot\n",
    "\n",
    "fig.suptitle('Minimum wage from 1980 - 2020 in GA, CT, and OR', y=1.1, fontsize=15) # sets title for entire figure\n",
    "fig.supxlabel('Years', y = -0.15)                                                   # sets x-label for entire figure\n",
    "fig.supylabel('USD (in 2020 dollars)')                                              # sets y-label for entire figure\n",
    "\n",
    "plt.show()"
   ]
  },
  {
   "cell_type": "markdown",
   "id": "5aba65cd",
   "metadata": {},
   "source": [
    "## Histograms: plotting multiple datasets\n",
    "\n",
    "Being able to see multiple distributions in one setting is a frequent need in data science. \n",
    "\n",
    "We will use `sns.load_dataset()` to acquire a preformed dataset to make our histograms.\n",
    "\n",
    "A link to additional datasets you can explore can be found in the references below. We will learn how to overlay histograms and plot them separately within the same figure using the `iris` dataset:"
   ]
  },
  {
   "cell_type": "code",
   "execution_count": null,
   "id": "dd52976d",
   "metadata": {},
   "outputs": [],
   "source": [
    "iris = sns.load_dataset('iris')\n",
    "\n",
    "iris.head(10)"
   ]
  },
  {
   "cell_type": "markdown",
   "id": "ab6e4091",
   "metadata": {},
   "source": [
    "Remembering that histograms are used to visualize counts and frequencies within numeric data, we can see in `iris` that there are several columns whose distributions we can visualize. Let's examine the minimum and maximum values in of each variable in the dataset using the `.describe()` method:"
   ]
  },
  {
   "cell_type": "code",
   "execution_count": null,
   "id": "6fc4c34c",
   "metadata": {
    "scrolled": true
   },
   "outputs": [],
   "source": [
    "iris.describe()"
   ]
  },
  {
   "cell_type": "markdown",
   "id": "62d99c67",
   "metadata": {},
   "source": [
    "The `.describe()` method reveals that all values of sepal length and sepal width are between 2 and 8. With this, we can make bins that could be used acrossed both distributions.\n",
    "\n",
    "<u>Useful parameters for `plt.hist()`</u>\n",
    "- `x`: an array of values to be binned and plotted\n",
    "- `bins`: an array of values that set the ranges of each bin **or** a single number that determines the number of bins\n",
    "- `label`: annotates the the data\n",
    "- `alpha`: **controls the opacity of each distribution**\n",
    "- `color`: colors the distribution"
   ]
  },
  {
   "cell_type": "code",
   "execution_count": null,
   "id": "deabd717",
   "metadata": {
    "scrolled": true
   },
   "outputs": [],
   "source": [
    "binz = np.arange(1,9, step = 0.5)\n",
    "\n",
    "# plotting the sepal length\n",
    "plt.hist(x = iris['sepal_length'],  bins=binz, label='Sepal Length', alpha=0.6, color = 'orange',)\n",
    "\n",
    "# plotting the sepal width\n",
    "plt.hist(x = iris['sepal_width'], bins=binz, label='Sepal Width', alpha=0.6, color = 'blue')\n",
    "\n",
    "plt.legend(loc='upper right')                               # legend added\n",
    "plt.title('Measurements of sepal length and width')         # title added\n",
    "plt.xlabel('Length (cm)')                                   # x-labels added\n",
    "plt.ylabel('Count')                                         # y-labels added\n",
    "plt.show()\n"
   ]
  },
  {
   "cell_type": "markdown",
   "id": "fe33d7c1",
   "metadata": {},
   "source": [
    "Alternatively, we can view these distributions on separate subplots. By creating our figure and axes again, we can plot to each axis using the `.hist()` method. \n",
    "\n",
    "Similar to before, each subplot gets it's own title and axis labels. If we don't set `binz` as our bins for each plot, the bins will be automatically generated based on the distribution of the data. This results in the x-axis of each plot having different increments:"
   ]
  },
  {
   "cell_type": "code",
   "execution_count": null,
   "id": "7f47df49",
   "metadata": {
    "scrolled": false
   },
   "outputs": [],
   "source": [
    "(fig, (ax1, ax2)) = plt.subplots(1, 2, figsize=(12, 3))\n",
    "\n",
    "# graphs on the first axis - ax1\n",
    "ax1.hist(iris['sepal_length'], color = 'orange') # plots data for sepal length\n",
    "ax1.set_title('Sepal Length')                    # makes title for the subplot\n",
    "ax1.set_xlabel('Length (cm)')                    # sets x-label for the subplot\n",
    "ax1.set_ylabel('Count')                          # sets y-label for the subplot\n",
    "\n",
    "# graphs on the second axis - ax2\n",
    "ax2.hist(iris['sepal_width'], color = 'blue')    # plots data for sepal length\n",
    "ax2.set_title('Sepal Width')                     # makes title for the subplot\n",
    "ax2.set_xlabel('Length (cm)')                    # sets x-label for the subplot\n",
    "ax2.set_ylabel('Count')                          # sets y-label for the subplot\n",
    "\n",
    "fig.suptitle('Measurements of sepal length and width', y=1.1, fontsize=15) # sets title for the entire figure\n",
    "\n",
    "plt.show()"
   ]
  },
  {
   "cell_type": "markdown",
   "id": "d01bf8c0",
   "metadata": {},
   "source": [
    "Above we made a figure with two histograms side-by-side by passing 1 and 2 (in this order) as arguments into the `plt.subplots()` function.\n",
    "\n",
    "**If we pass 2 and 1 (in this order) into `plt.subplots()`, what do you think that will do?**\n",
    "\n",
    "<u>Useful parameters for `plt.subplots()`</u>\n",
    "- `gridspec_kw`: modifies the grid layout in the subplots; accepted arguments include dictionary keywords for the GridSpec class (see references)\n"
   ]
  },
  {
   "cell_type": "code",
   "execution_count": null,
   "id": "d2e27b77",
   "metadata": {},
   "outputs": [],
   "source": [
    "(fig, (ax1, ax2)) = plt.subplots(2,1, figsize=(4, 8), gridspec_kw={'hspace':0.4}) # take out the gridspec_kw\n",
    "                                                                                  # parameter and see what happens!\n",
    "\n",
    "# graphs on the first axis - ax1\n",
    "ax1.hist(iris['sepal_length'], color = 'orange') # plots data for sepal length\n",
    "ax1.set_title('Sepal Length')                    # makes title for the subplot\n",
    "ax1.set_xlabel('Length (cm)')                    # sets x-label for the subplot\n",
    "ax1.set_ylabel('Count')                          # sets y-label for the subplot\n",
    "\n",
    "# graphs on the second axis - ax2\n",
    "ax2.hist(iris['sepal_width'], color = 'blue')    # plots data for sepal length\n",
    "ax2.set_title('Sepal Width')                     # makes title for the subplot\n",
    "ax2.set_xlabel('Length (cm)')                    # sets x-label for the subplot\n",
    "ax2.set_ylabel('Count')                          # sets y-label for the subplot\n",
    "\n",
    "plt.show()"
   ]
  },
  {
   "cell_type": "markdown",
   "id": "65c87da2",
   "metadata": {},
   "source": [
    "## Bar graph: plotting multiple datasets (nested bar graph)\n",
    "\n",
    "Plotting multiple datasets using a bar graph makes for easy comparison across different categories. To practice will be using the `tips` dataset:"
   ]
  },
  {
   "cell_type": "code",
   "execution_count": null,
   "id": "4ad5c05f",
   "metadata": {},
   "outputs": [],
   "source": [
    "tips = sns.load_dataset(\"tips\")\n",
    "tips"
   ]
  },
  {
   "cell_type": "markdown",
   "id": "b294d1b1",
   "metadata": {},
   "source": [
    "The `tips` dataset has several variables that are measured. Let's examine the average amount of tips given to male and female servers during lunch and dinner. We will need to group our data:"
   ]
  },
  {
   "cell_type": "code",
   "execution_count": null,
   "id": "84707879",
   "metadata": {},
   "outputs": [],
   "source": [
    "tips_sub = tips.groupby(['time','sex'])[['tip']].mean()\n",
    "tips_sub.reset_index(inplace=True)\n",
    "tips_sub"
   ]
  },
  {
   "cell_type": "markdown",
   "id": "3f6770ea",
   "metadata": {},
   "source": [
    "<u>Useful parameters for `sns.barplot()`</u>\n",
    "- `data`: dataframe or array containing data to be plotted\n",
    "- `x`: variable of data to plot on the x-axis\n",
    "- `y`: variable of data to plot on the y-axis\n",
    "- `hue`: **dictates how the bars are colored, based on a categorical value**\n",
    "- `dodge`: **When hue nesting is used, whether elements should be shifted along the categorical axis.**\n",
    "- `palette`: **color palette to be used to color plotted variables**"
   ]
  },
  {
   "cell_type": "code",
   "execution_count": null,
   "id": "0200b220",
   "metadata": {
    "scrolled": true
   },
   "outputs": [],
   "source": [
    "sns.barplot(data=tips_sub, x=\"time\", y=\"tip\", hue=\"sex\", dodge=True,  palette='turbo')\n",
    "plt.legend(bbox_to_anchor = (1,1))\n",
    "plt.title('Average tips during lunch and dinner between males and females')\n",
    "plt.show()"
   ]
  },
  {
   "cell_type": "markdown",
   "id": "ebbf8831",
   "metadata": {},
   "source": [
    "## Bar graph: coloring bars by a categorical variable\n",
    "\n",
    "We can also color bars of a non-nested bar graph (i.e., a bar graph that plots a single categorical variable)\n",
    "\n",
    "Let's plot the maximum tip value for each day within the `tips` dataset. First, we must group our dataset accordingly and apply the appropriate statistical method:"
   ]
  },
  {
   "cell_type": "code",
   "execution_count": null,
   "id": "d5945fd5",
   "metadata": {},
   "outputs": [],
   "source": [
    "days = tips.groupby(['day'])[['tip']].max()\n",
    "days.reset_index(inplace=True)\n",
    "days"
   ]
  },
  {
   "cell_type": "markdown",
   "id": "3aa09459",
   "metadata": {},
   "source": [
    "Before plotting, it will helpful to make a custom color palette.\n",
    "\n",
    "This can be done by creating a list of colors (either `matplotlib` named colors or hexadecimal codes) and using that list as input for `sns.set_palette()`."
   ]
  },
  {
   "cell_type": "code",
   "execution_count": null,
   "id": "668b5480",
   "metadata": {},
   "outputs": [],
   "source": [
    "colors = [\"skyblue\", '#5faebf', '#82a73f', 'green']\n",
    "pal = sns.set_palette(colors)"
   ]
  },
  {
   "cell_type": "markdown",
   "id": "0eed9720",
   "metadata": {},
   "source": [
    "Using our new color palette and `sns.barplot()`, we will plot the maximum tip amount for each day and color each bar accordingly.\n",
    "\n",
    "Because we are not making a nested bar graph, the `dodge` parameter is set to `False`. The bars will be colored based on the input into the `palette` parameter."
   ]
  },
  {
   "cell_type": "code",
   "execution_count": null,
   "id": "58c6c1ab",
   "metadata": {
    "scrolled": true
   },
   "outputs": [],
   "source": [
    "sns.barplot(data = days, x = 'day', y = 'tip', \n",
    "            hue=\"day\", dodge=False, palette=pal)           # color bars based on day using the custom color palette\n",
    "\n",
    "plt.legend(labelcolor=\"black\", bbox_to_anchor=(1, 1.01))   # customizes the legend\n",
    "plt.xticks([])                                             # gets rid of x-labels\n",
    "plt.title('Maximum tips per day')                          # title added\n",
    "plt.show()"
   ]
  },
  {
   "cell_type": "markdown",
   "id": "1d402e63",
   "metadata": {},
   "source": [
    "## Scatter plot: coloring data points by a categorical variable\n",
    "\n",
    "We previously learned how to make scatter plots in `matplotlib` and color data points by a categorical variable. \n",
    "\n",
    "There is a more straightforward way to do this using `sns.scatterplot()`. Using the `iris` dataset, we will practice this."
   ]
  },
  {
   "cell_type": "markdown",
   "id": "5858a070",
   "metadata": {},
   "source": [
    "<u>Useful parameters for `sns.histplot()`</u>\n",
    "- `data`: dataframe or array containing data to be plotted\n",
    "- `x`: variable of data to plot on the x-axis\n",
    "- `y`: variable of data to plot on the y-axis\n",
    "- `hue`: **dictates how the data points are colored, based on a categorical value**\n",
    "- `palette`: **color palette to be used to color plotted variables**\n",
    "- `s`: size of each data point"
   ]
  },
  {
   "cell_type": "code",
   "execution_count": null,
   "id": "803a4576",
   "metadata": {},
   "outputs": [],
   "source": [
    "sns.scatterplot(data=iris, x='sepal_length', y='sepal_width', hue='species', palette = \"Set2\", s=50)  \n",
    "\n",
    "plt.legend(ncol = 1, labelcolor=\"black\", bbox_to_anchor=(1, 1.01))    # legend added\n",
    "\n",
    "plt.title('Sepal width vs sepal length in various species')           # title added\n",
    "plt.show()"
   ]
  },
  {
   "cell_type": "markdown",
   "id": "6ee9cb95",
   "metadata": {},
   "source": [
    "## References\n",
    "- <a href=\"https://github.com/mwaskom/seaborn-data\">preloaded datasets in seaborn</a>\n",
    "- <a href=\"https://matplotlib.org/stable/api/_as_gen/matplotlib.gridspec.GridSpec.html\">info on matplotlib.gridspec.GridSpec class</a>\n",
    "- <a href=\"https://matplotlib.org/stable/api/figure_api.html#matplotlib.figure.SubplotParams\">SubplotParams for the GridSpec</a>\n"
   ]
  }
 ],
 "metadata": {
  "kernelspec": {
   "display_name": "Python 3 (ipykernel)",
   "language": "python",
   "name": "python3"
  },
  "language_info": {
   "codemirror_mode": {
    "name": "ipython",
    "version": 3
   },
   "file_extension": ".py",
   "mimetype": "text/x-python",
   "name": "python",
   "nbconvert_exporter": "python",
   "pygments_lexer": "ipython3",
   "version": "3.9.12"
  }
 },
 "nbformat": 4,
 "nbformat_minor": 5
}
